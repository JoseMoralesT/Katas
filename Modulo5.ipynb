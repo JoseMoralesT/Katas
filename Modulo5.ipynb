{
 "cells": [
  {
   "cell_type": "markdown",
   "metadata": {},
   "source": [
    "Crear variables para almacenar las dos distancias\n",
    "Comenzaremos usando dos distancias de planetas: Tierra (149.597.870 km) y Júpiter (778.547.200 km)."
   ]
  },
  {
   "cell_type": "code",
   "execution_count": 1,
   "metadata": {},
   "outputs": [
    {
     "name": "stdout",
     "output_type": "stream",
     "text": [
      "distancia de la tierra:149597870 y distancia de jupiter:778547200\n"
     ]
    }
   ],
   "source": [
    "x=149597870\n",
    "y=778547200\n",
    "print(\"distancia de la tierra:\"+ str(x) + \" y distancia de jupiter:\" + str(y))"
   ]
  },
  {
   "cell_type": "markdown",
   "metadata": {},
   "source": [
    "Con los valores obtenidos, es el momento de añadir el código para realizar la operación. Restarás el primer planeta del segundo para determinar la distancia en kilómetros. A continuación, puedes convertir la distancia del kilómetro en millas multiplicándola por 0.621."
   ]
  },
  {
   "cell_type": "code",
   "execution_count": 8,
   "metadata": {},
   "outputs": [
    {
     "name": "stdout",
     "output_type": "stream",
     "text": [
      "La distancia entre los planetas en kilometros es:628949330\n",
      "La distancia entre los planetas en millas es:390577533.93\n"
     ]
    }
   ],
   "source": [
    "D_km= y-x\n",
    "D_m= D_km * 0.621\n",
    "print(\"La distancia entre los planetas en kilometros es:\"+ str(D_km))\n",
    "print(\"La distancia entre los planetas en millas es:\" + str(D_m))"
   ]
  },
  {
   "cell_type": "markdown",
   "metadata": {},
   "source": [
    "Lee los valores\n"
   ]
  },
  {
   "cell_type": "code",
   "execution_count": 11,
   "metadata": {},
   "outputs": [],
   "source": [
    "x= input(\"distancia del primer planeta\")\n",
    "y=input(\"distancia del segundo planeta\")"
   ]
  },
  {
   "cell_type": "markdown",
   "metadata": {},
   "source": [
    "Convierte las cadenas de ambos planetas a números enteros"
   ]
  },
  {
   "cell_type": "code",
   "execution_count": 9,
   "metadata": {},
   "outputs": [],
   "source": [
    "x= int(x)\n",
    "y= int(y)"
   ]
  },
  {
   "cell_type": "markdown",
   "metadata": {},
   "source": [
    "Realizar el cálculo y determinar el valor absoluto"
   ]
  },
  {
   "cell_type": "code",
   "execution_count": 10,
   "metadata": {},
   "outputs": [
    {
     "name": "stdout",
     "output_type": "stream",
     "text": [
      "La distancia entre los planetas en kilometros es:628949330\n",
      "La distancia entre los planetas en millas es:390577533.93\n"
     ]
    }
   ],
   "source": [
    "D_km= y-x\n",
    "D_m= D_km * 0.621\n",
    "print(\"La distancia entre los planetas en kilometros es:\"+ str (abs(D_km)))\n",
    "print(\"La distancia entre los planetas en millas es:\" + str(abs(D_m)))"
   ]
  }
 ],
 "metadata": {
  "interpreter": {
   "hash": "5530c16fcbe88e2aad5e3a1c4f778b7f31a115bcadbc011f7bfd6a1da523f0ce"
  },
  "kernelspec": {
   "display_name": "Python 3.9.6 64-bit",
   "language": "python",
   "name": "python3"
  },
  "language_info": {
   "codemirror_mode": {
    "name": "ipython",
    "version": 3
   },
   "file_extension": ".py",
   "mimetype": "text/x-python",
   "name": "python",
   "nbconvert_exporter": "python",
   "pygments_lexer": "ipython3",
   "version": "3.9.6"
  },
  "orig_nbformat": 4
 },
 "nbformat": 4,
 "nbformat_minor": 2
}
